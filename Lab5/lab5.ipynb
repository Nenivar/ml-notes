{
 "cells": [
  {
   "cell_type": "code",
   "execution_count": 74,
   "metadata": {},
   "outputs": [],
   "source": [
    "import numpy as np\n",
    "import matplotlib.pyplot as plt\n",
    "from scipy.stats import multivariate_normal\n",
    "\n",
    "# maximum likelihood solution to W\n",
    "def MLW(Y, q):\n",
    "    v,W = np.linalg.eig(np.cov(Y.T))\n",
    "    idx = np.argsort(np.real(v))[::-1][:q]\n",
    "    return np.real(W[:,idx])\n",
    "\n",
    "# post. dist of latent variable (i.e. X)\n",
    "def posterior(w, x, mu_x, beta):\n",
    "    A = np.linalg.inv(w.dot(w.T) + 1 / beta * np.eye(w.shape[0]))\n",
    "    mu = w.T.dot(A.dot(x-mu_x))\n",
    "    sigma = np.eye(w.shape[1]) - w.T.dot(A.dot(w))\n",
    "    \n",
    "    return mu, sigma\n",
    "\n",
    "# generate spiral\n",
    "t = np.linspace(0, 3 * np.pi, 100)\n",
    "x = np.zeros((t.shape[0], 2))\n",
    "x[:, 0] = t * np.sin(t)\n",
    "x[:, 1] = t * np.cos(t)\n",
    "\n",
    "# pick random matrix that maps to Y\n",
    "w = np.random.randn(10, 2)\n",
    "y = x.dot(w.T)\n",
    "y += np.random.randn(*y.shape)\n",
    "mu_y = np.mean(y, axis=0)\n",
    "\n",
    "# get max. likelihood solution of W\n",
    "w = MLW(y, 2)\n",
    "\n",
    "# compute predictions for latent space\n",
    "xpred = np.zeros(x.shape)\n",
    "sigma = []\n",
    "for i in range(0, y.shape[0]):\n",
    "    xpred[i, :], sigma = posterior(w, y[i, :], mu_y, 1/2)"
   ]
  },
  {
   "cell_type": "code",
   "execution_count": 5,
   "metadata": {},
   "outputs": [
    {
     "ename": "SyntaxError",
     "evalue": "invalid syntax (<ipython-input-5-7760ec027842>, line 11)",
     "output_type": "error",
     "traceback": [
      "\u001b[0;36m  File \u001b[0;32m\"<ipython-input-5-7760ec027842>\"\u001b[0;36m, line \u001b[0;32m11\u001b[0m\n\u001b[0;31m    pdf = multivariate_normal(xpred[i, :].fla**Central Limit Theorem**tten(), sigma)\u001b[0m\n\u001b[0m                                                           ^\u001b[0m\n\u001b[0;31mSyntaxError\u001b[0m\u001b[0;31m:\u001b[0m invalid syntax\n"
     ]
    }
   ],
   "source": [
    "# generate density\n",
    "N = 300\n",
    "x1 = np.linspace(np.min(xpred[:, 0]), np.max(xpred[:, 0]), N)\n",
    "x2 = np.linspace(np.min(xpred[:, 1]), np.max(xpred[:, 1]), N)\n",
    "x1p, x2p = np.meshgrid(x1, x2)\n",
    "pos = np.vstack((x1p.flatten(), x2p.flatten())).T\n",
    "\n",
    "# compute posterior\n",
    "Z = np.zeros((N, N))\n",
    "for i in range(0, xpred.shape[0]):\n",
    "    pdf = multivariate_normal(xpred[i, :].fla**Central Limit Theorem**tten(), sigma)\n",
    "    Z += pdf.pdf(pos).reshape(N, N)\n",
    "\n",
    "# plot\n",
    "fig = plt.figure(figsize=(10,5))\n",
    "ax = fig.add_subplot(121)\n",
    "ax.scatter(xpred[:, 0], xpred[:, 1])\n",
    "ax.set_xticks([])\n",
    "ax.set_yticks([])\n",
    "\n",
    "ax = fig.add_subplot(122)\n",
    "ax.imshow(Z, cmap='hot')\n",
    "ax.set_ylim(ax.get_ylim()[::-1])\n",
    "ax.set_xticks([])\n",
    "ax.set_yticks([])"
   ]
  }
 ],
 "metadata": {
  "kernelspec": {
   "display_name": "Python 3",
   "language": "python",
   "name": "python3"
  },
  "language_info": {
   "codemirror_mode": {
    "name": "ipython",
    "version": 3
   },
   "file_extension": ".py",
   "mimetype": "text/x-python",
   "name": "python",
   "nbconvert_exporter": "python",
   "pygments_lexer": "ipython3",
   "version": "3.6.8"
  }
 },
 "nbformat": 4,
 "nbformat_minor": 2
}
