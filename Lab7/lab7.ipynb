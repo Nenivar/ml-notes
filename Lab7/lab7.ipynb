{
 "cells": [
  {
   "cell_type": "code",
   "execution_count": 4,
   "metadata": {},
   "outputs": [],
   "source": [
    "import numpy as np\n",
    "import matplotlib.pyplot as plt\n",
    "from scipy.stats import norm\n",
    "\n",
    "def surrogate_belief(x, f, x_star, theta):\n",
    "    k_starx = kernel(x_star, x)\n",
    "    k_xstar = k_starx.T\n",
    "    k_xx = kernel(x, x)\n",
    "    k_starstar = kernel(x_star, x_star)\n",
    "    \n",
    "    mu_star = k_starx.dot(np.lingalg.inv(k_xx).dot(f))\n",
    "    sigma_star = k_starstar - k_starx.dot(np.linalg.inv(k_xx).dot(k_xstar))\n",
    "    #pred_pos = \n",
    "    \n",
    "    return mu_star, sigma_star\n",
    "\n",
    "def expected_improvement(f_*, mu, sigma, x):\n",
    "    A = f_*(x)\n",
    "    pass"
   ]
  }
 ],
 "metadata": {
  "kernelspec": {
   "display_name": "Python 3",
   "language": "python",
   "name": "python3"
  },
  "language_info": {
   "codemirror_mode": {
    "name": "ipython",
    "version": 3
   },
   "file_extension": ".py",
   "mimetype": "text/x-python",
   "name": "python",
   "nbconvert_exporter": "python",
   "pygments_lexer": "ipython3",
   "version": "3.6.8"
  }
 },
 "nbformat": 4,
 "nbformat_minor": 2
}
